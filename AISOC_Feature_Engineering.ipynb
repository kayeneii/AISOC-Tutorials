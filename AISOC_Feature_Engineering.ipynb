{
  "nbformat": 4,
  "nbformat_minor": 0,
  "metadata": {
    "colab": {
      "provenance": [],
      "authorship_tag": "ABX9TyPE4STBEcZ48qhywVwLGjva",
      "include_colab_link": true
    },
    "kernelspec": {
      "name": "python3",
      "display_name": "Python 3"
    },
    "language_info": {
      "name": "python"
    }
  },
  "cells": [
    {
      "cell_type": "markdown",
      "metadata": {
        "id": "view-in-github",
        "colab_type": "text"
      },
      "source": [
        "<a href=\"https://colab.research.google.com/github/kayeneii/AISOC/blob/main/AISOC_Feature_Engineering.ipynb\" target=\"_parent\"><img src=\"https://colab.research.google.com/assets/colab-badge.svg\" alt=\"Open In Colab\"/></a>"
      ]
    },
    {
      "cell_type": "markdown",
      "source": [
        "# Feature Engineering and Selection\n",
        "\n",
        "Feature Engineering is basically the process of data transformation. It involves creating new features using existing variables. It is a step in exploratory analysis.\n",
        "\n",
        "Feature Selection is the selection of features that are relevant and predictive to the model you're trying to train.\n",
        "\n",
        "##Techniques for Feature Engineering\n",
        "1. Data Pre-processing <br>\n",
        "Common operations for data pre-processing\n",
        "\n",
        "##Techniques for Feature Selection"
      ],
      "metadata": {
        "id": "gj2sJB7F5sMU"
      }
    },
    {
      "cell_type": "code",
      "execution_count": 1,
      "metadata": {
        "id": "A7sOQNRr5K5R"
      },
      "outputs": [],
      "source": [
        "import pandas as pd"
      ]
    },
    {
      "cell_type": "code",
      "source": [
        "%pip install scikit-learn"
      ],
      "metadata": {
        "colab": {
          "base_uri": "https://localhost:8080/"
        },
        "collapsed": true,
        "id": "fjOq82td_leV",
        "outputId": "453491ae-81d3-448d-810f-ae6a126559d9"
      },
      "execution_count": 6,
      "outputs": [
        {
          "output_type": "stream",
          "name": "stdout",
          "text": [
            "Requirement already satisfied: scikit-learn in /usr/local/lib/python3.12/dist-packages (1.6.1)\n",
            "Requirement already satisfied: numpy>=1.19.5 in /usr/local/lib/python3.12/dist-packages (from scikit-learn) (2.0.2)\n",
            "Requirement already satisfied: scipy>=1.6.0 in /usr/local/lib/python3.12/dist-packages (from scikit-learn) (1.16.1)\n",
            "Requirement already satisfied: joblib>=1.2.0 in /usr/local/lib/python3.12/dist-packages (from scikit-learn) (1.5.1)\n",
            "Requirement already satisfied: threadpoolctl>=3.1.0 in /usr/local/lib/python3.12/dist-packages (from scikit-learn) (3.6.0)\n"
          ]
        }
      ]
    },
    {
      "cell_type": "code",
      "source": [
        "df = pd.read_excel (\"Amazon Sale Report.xlsx\")"
      ],
      "metadata": {
        "id": "lnzz9ryN97KH"
      },
      "execution_count": 4,
      "outputs": []
    },
    {
      "cell_type": "code",
      "source": [
        "df.info ()"
      ],
      "metadata": {
        "colab": {
          "base_uri": "https://localhost:8080/"
        },
        "id": "w842m2WM-nUb",
        "outputId": "5335f1d7-6104-488e-9742-be39f78ffead"
      },
      "execution_count": 5,
      "outputs": [
        {
          "output_type": "stream",
          "name": "stdout",
          "text": [
            "<class 'pandas.core.frame.DataFrame'>\n",
            "RangeIndex: 128975 entries, 0 to 128974\n",
            "Data columns (total 24 columns):\n",
            " #   Column              Non-Null Count   Dtype         \n",
            "---  ------              --------------   -----         \n",
            " 0   index               128975 non-null  int64         \n",
            " 1   Order ID            128975 non-null  object        \n",
            " 2   Date                128975 non-null  datetime64[ns]\n",
            " 3   Status              128975 non-null  object        \n",
            " 4   Fulfilment          128975 non-null  object        \n",
            " 5   Sales Channel       128975 non-null  object        \n",
            " 6   ship-service-level  128975 non-null  object        \n",
            " 7   Style               128975 non-null  object        \n",
            " 8   SKU                 128975 non-null  object        \n",
            " 9   Category            128975 non-null  object        \n",
            " 10  Size                128975 non-null  object        \n",
            " 11  ASIN                128975 non-null  object        \n",
            " 12  Courier Status      122103 non-null  object        \n",
            " 13  Qty                 128975 non-null  int64         \n",
            " 14  currency            121180 non-null  object        \n",
            " 15  Amount              121180 non-null  float64       \n",
            " 16  ship-city           128942 non-null  object        \n",
            " 17  ship-state          128942 non-null  object        \n",
            " 18  ship-postal-code    128942 non-null  float64       \n",
            " 19  ship-country        128942 non-null  object        \n",
            " 20  promotion-ids       79822 non-null   object        \n",
            " 21  B2B                 128975 non-null  bool          \n",
            " 22  fulfilled-by        39277 non-null   object        \n",
            " 23  Unnamed: 22         79925 non-null   float64       \n",
            "dtypes: bool(1), datetime64[ns](1), float64(3), int64(2), object(17)\n",
            "memory usage: 22.8+ MB\n"
          ]
        }
      ]
    },
    {
      "cell_type": "code",
      "source": [],
      "metadata": {
        "id": "010M5ehl-9gN"
      },
      "execution_count": null,
      "outputs": []
    },
    {
      "cell_type": "markdown",
      "source": [
        "*Scaling*\n",
        "\n",
        "- Min-Max Scaling: Uses minimum and maximum values of a feature to rescale values to within  a range.<br>\n",
        "Formula<br>\n",
        "$$x^i =\\frac{x_i-min(x)}{max(x)-min(x)}$$\n",
        "\n",
        "- Standard Scaling: Scales the data such that it has a mean of 0 and standard deviation of 1.<br>\n",
        "Formula<br>\n",
        "$$x^i =\\frac{x_i-\\bar{x}}{\\sigma}$$\n",
        "\n",
        "- Robust Scaling: Improves on standard scaling to avoid negative impact of outliers, by using the median and interquartile range.<br>\n",
        "\n",
        "\n",
        "<br>\n",
        "\n",
        "**P.S: Interquartile range**\n",
        "- is a measure of the spread of the middle 50% of the dataset.\n",
        "- represents the difference between the first quartile (Q1) and third quartile (Q3) where median is the second quartile (Q2).\n",
        "- Q1 is the median of the lower half of the data and Q3 is the median of the upper half"
      ],
      "metadata": {
        "id": "JtJDS4X3_5-Q"
      }
    },
    {
      "cell_type": "code",
      "source": [
        "from sklearn.preprocessing import StandardScaler, MinMaxScaler"
      ],
      "metadata": {
        "id": "6Ro2RTAUCV2Y"
      },
      "execution_count": null,
      "outputs": []
    },
    {
      "cell_type": "code",
      "source": [
        "def check_feature_range(col)\n",
        "    return (min(col), max(col))\n",
        "\n",
        "num_cols = [\"Qty\",\"Amount\"]\n",
        "\n",
        "for col in num_cols:\n",
        "    feat = df[col]\n",
        "    print(check_feature_range(feat))"
      ],
      "metadata": {
        "id": "9-RmIWCT_-hu"
      },
      "execution_count": null,
      "outputs": []
    },
    {
      "cell_type": "code",
      "source": [
        "df_scaled = df_clean.copy()"
      ],
      "metadata": {
        "id": "7ptAI9x8Bn0h"
      },
      "execution_count": null,
      "outputs": []
    },
    {
      "cell_type": "code",
      "source": [
        "minmax_scaler = MinMaxScaler()\n",
        "std_scaler = StandardScaler()"
      ],
      "metadata": {
        "id": "zTtk2KBrEooe"
      },
      "execution_count": null,
      "outputs": []
    },
    {
      "cell_type": "code",
      "source": [
        "df_scaled[[col +\"_minmax\" for col in num_cols]] = minmax_scaler.fit_transform(df_clean[num_cols])\n",
        "df_scaled.head(3)"
      ],
      "metadata": {
        "id": "MzI7ne8jD75L"
      },
      "execution_count": null,
      "outputs": []
    },
    {
      "cell_type": "code",
      "source": [
        "for col in minmax_cols:\n",
        "    feat = df_scaled[col]\n",
        "    print(check_feature_range(feat))"
      ],
      "metadata": {
        "id": "MEcHzIJRG1jh"
      },
      "execution_count": null,
      "outputs": []
    },
    {
      "cell_type": "code",
      "source": [],
      "metadata": {
        "id": "7K_NbTElHBbi"
      },
      "execution_count": null,
      "outputs": []
    }
  ]
}