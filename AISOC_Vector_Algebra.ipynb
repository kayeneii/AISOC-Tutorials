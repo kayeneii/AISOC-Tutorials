{
  "nbformat": 4,
  "nbformat_minor": 0,
  "metadata": {
    "colab": {
      "provenance": [],
      "authorship_tag": "ABX9TyM2yyOcnyn8tnoKTeHEGDxI",
      "include_colab_link": true
    },
    "kernelspec": {
      "name": "python3",
      "display_name": "Python 3"
    },
    "language_info": {
      "name": "python"
    }
  },
  "cells": [
    {
      "cell_type": "markdown",
      "metadata": {
        "id": "view-in-github",
        "colab_type": "text"
      },
      "source": [
        "<a href=\"https://colab.research.google.com/github/kayeneii/AISOC-Tutorials/blob/main/AISOC_Vector_Algebra.ipynb\" target=\"_parent\"><img src=\"https://colab.research.google.com/assets/colab-badge.svg\" alt=\"Open In Colab\"/></a>"
      ]
    },
    {
      "cell_type": "code",
      "execution_count": 1,
      "metadata": {
        "id": "OmKKVLna6UJ0"
      },
      "outputs": [],
      "source": [
        "import numpy\n",
        "from numpy import array"
      ]
    },
    {
      "cell_type": "code",
      "source": [
        "v1 = array([1,2,3,4,5])\n",
        "v2 = array([3,4,6,7,9])"
      ],
      "metadata": {
        "id": "ncxKYroIqNpS"
      },
      "execution_count": 3,
      "outputs": []
    },
    {
      "cell_type": "markdown",
      "source": [
        "##Vector Arithmetics\n",
        "When adding vectors together, both vectors must have the same length else you get a broadcast issue\n"
      ],
      "metadata": {
        "id": "dsffrL97qhxk"
      }
    },
    {
      "cell_type": "code",
      "source": [
        "v1 + v2"
      ],
      "metadata": {
        "colab": {
          "base_uri": "https://localhost:8080/"
        },
        "id": "Opn4GVLLqmzE",
        "outputId": "d73b44f2-3160-40fa-d143-4dec1e7ab921"
      },
      "execution_count": 4,
      "outputs": [
        {
          "output_type": "execute_result",
          "data": {
            "text/plain": [
              "array([ 4,  6,  9, 11, 14])"
            ]
          },
          "metadata": {},
          "execution_count": 4
        }
      ]
    },
    {
      "cell_type": "code",
      "source": [
        "v1 - v2"
      ],
      "metadata": {
        "colab": {
          "base_uri": "https://localhost:8080/"
        },
        "id": "BpWf4TSmtI3m",
        "outputId": "8e1e4b46-47e5-4e4e-82e9-d3cebecf6702"
      },
      "execution_count": 5,
      "outputs": [
        {
          "output_type": "execute_result",
          "data": {
            "text/plain": [
              "array([-2, -2, -3, -3, -4])"
            ]
          },
          "metadata": {},
          "execution_count": 5
        }
      ]
    },
    {
      "cell_type": "code",
      "source": [
        "v1 * v2"
      ],
      "metadata": {
        "colab": {
          "base_uri": "https://localhost:8080/"
        },
        "outputId": "7fc26fa9-1c89-41eb-ca26-ea035c1c989d",
        "id": "QQtQGqHdtra9"
      },
      "execution_count": 6,
      "outputs": [
        {
          "output_type": "execute_result",
          "data": {
            "text/plain": [
              "array([ 3,  8, 18, 28, 45])"
            ]
          },
          "metadata": {},
          "execution_count": 6
        }
      ]
    },
    {
      "cell_type": "code",
      "source": [
        "v2 / v1"
      ],
      "metadata": {
        "colab": {
          "base_uri": "https://localhost:8080/"
        },
        "outputId": "4614572b-d327-4dcd-970c-f05f3284b61c",
        "id": "hJrDMRtitwHZ"
      },
      "execution_count": 8,
      "outputs": [
        {
          "output_type": "execute_result",
          "data": {
            "text/plain": [
              "array([3.  , 2.  , 2.  , 1.75, 1.8 ])"
            ]
          },
          "metadata": {},
          "execution_count": 8
        }
      ]
    },
    {
      "cell_type": "code",
      "source": [
        "###say we have a scalar that's equal to 3\n",
        "s=3\n",
        "s*v1"
      ],
      "metadata": {
        "colab": {
          "base_uri": "https://localhost:8080/"
        },
        "outputId": "3cf52110-768a-4f1f-db7a-a2a50cce5fef",
        "id": "Z7A7AsxTt6Iy"
      },
      "execution_count": 10,
      "outputs": [
        {
          "output_type": "execute_result",
          "data": {
            "text/plain": [
              "array([ 3,  6,  9, 12, 15])"
            ]
          },
          "metadata": {},
          "execution_count": 10
        }
      ]
    },
    {
      "cell_type": "code",
      "source": [
        "###to get dot product\n",
        "v1.dot(v2)"
      ],
      "metadata": {
        "colab": {
          "base_uri": "https://localhost:8080/"
        },
        "id": "nPktkZKGupNz",
        "outputId": "0ee56734-a8eb-4ccc-9bd5-db2a7fafa2f7"
      },
      "execution_count": 11,
      "outputs": [
        {
          "output_type": "execute_result",
          "data": {
            "text/plain": [
              "np.int64(102)"
            ]
          },
          "metadata": {},
          "execution_count": 11
        }
      ]
    },
    {
      "cell_type": "code",
      "source": [
        "###OR\n",
        "def my_dot(a,b):\n",
        "    sum = 0\n",
        "    for i,j in zip(a,b):\n",
        "        sum += i*j\n",
        "    return sum\n",
        "my_dot(v1,v2)"
      ],
      "metadata": {
        "colab": {
          "base_uri": "https://localhost:8080/"
        },
        "id": "qKB2JyLwvHXS",
        "outputId": "c599d6c1-3d54-43e1-c203-565832238f71"
      },
      "execution_count": 12,
      "outputs": [
        {
          "output_type": "execute_result",
          "data": {
            "text/plain": [
              "np.int64(102)"
            ]
          },
          "metadata": {},
          "execution_count": 12
        }
      ]
    },
    {
      "cell_type": "markdown",
      "source": [
        "##Vector Norms\n",
        "- $L^1$ Norm - $||v||_1$: This is the sum of the absolute vector values and is also known as the _Manhattan Norm._ Used for **Lasso Regression**.<br>\n",
        "\n",
        "  Formula:\n",
        "  \n",
        "  $L^1$($v$) = $||v||_1$ = $|a|_1$ + $|a|_2$ + $|a|_3$<br>\n",
        "\n",
        "- $L^2$ Norm - $||v||_2$: Also called the _Euclidean Norm,_ it is the root sum of all squared vector values. Used for **Ridge Regression**.<br>\n",
        "  \n",
        "  Formula:\n",
        "\n",
        "   $L^2$($v$) = $||v||_2$ = $\\sqrt{(|a|_1^2 + |a|_2^2 + |a|_3^2)}$<br>\n",
        "\n",
        "*Note: A vector with all zeros is an origin: v = (0,0,0)*"
      ],
      "metadata": {
        "id": "QTzTdbJ5xOZv"
      }
    },
    {
      "cell_type": "code",
      "source": [
        "from numpy.linalg import norm"
      ],
      "metadata": {
        "id": "qr6k4UXo2Q99"
      },
      "execution_count": 14,
      "outputs": []
    },
    {
      "cell_type": "code",
      "source": [
        "v3 = v1 - v2\n",
        "v3"
      ],
      "metadata": {
        "colab": {
          "base_uri": "https://localhost:8080/"
        },
        "id": "NnhV8i3nxMLf",
        "outputId": "23bfc3bd-9d57-4fcc-90f7-e08b7a86cb09"
      },
      "execution_count": 15,
      "outputs": [
        {
          "output_type": "execute_result",
          "data": {
            "text/plain": [
              "array([-2, -2, -3, -3, -4])"
            ]
          },
          "metadata": {},
          "execution_count": 15
        }
      ]
    },
    {
      "cell_type": "code",
      "source": [
        "##L^1 Norm\n",
        "v3_norm = norm(v3,1)\n",
        "v3_norm"
      ],
      "metadata": {
        "colab": {
          "base_uri": "https://localhost:8080/"
        },
        "id": "-tHzz-UW2f51",
        "outputId": "979af58f-12a0-4779-9097-83dd6ccd2b69"
      },
      "execution_count": 16,
      "outputs": [
        {
          "output_type": "execute_result",
          "data": {
            "text/plain": [
              "np.float64(14.0)"
            ]
          },
          "metadata": {},
          "execution_count": 16
        }
      ]
    },
    {
      "cell_type": "code",
      "source": [
        "##L^2 Norm\n",
        "v3_norm_2 = norm(v3)\n",
        "v3_norm_2"
      ],
      "metadata": {
        "colab": {
          "base_uri": "https://localhost:8080/"
        },
        "id": "Db-AoqQG2tr7",
        "outputId": "43f4d951-a82a-4d61-c327-180c7436aaf7"
      },
      "execution_count": 19,
      "outputs": [
        {
          "output_type": "execute_result",
          "data": {
            "text/plain": [
              "np.float64(6.48074069840786)"
            ]
          },
          "metadata": {},
          "execution_count": 19
        }
      ]
    },
    {
      "cell_type": "markdown",
      "source": [
        "###Max Norm\n",
        "We continue norms up to an arbitrary number of values up to infinity. When we get to $L^∞$, we have what is called the **Max Norm**.\n",
        "\n",
        "Formula:\n",
        "\n",
        "$L^∞$ of $||v||_3$ is<br>\n",
        "$||v3||_∞$ = $\\sqrt[\\infty]{(|a|_1^\\infty + |a|_2^\\infty + |a|_3^\\infty)}$"
      ],
      "metadata": {
        "id": "fHI2nfc47Ajy"
      }
    },
    {
      "cell_type": "code",
      "source": [
        "norm(v3,20)"
      ],
      "metadata": {
        "colab": {
          "base_uri": "https://localhost:8080/"
        },
        "id": "dm3q9e7c8Qg1",
        "outputId": "7bdfc571-ec69-4dfa-c95f-7b308f64468b"
      },
      "execution_count": 20,
      "outputs": [
        {
          "output_type": "execute_result",
          "data": {
            "text/plain": [
              "np.float64(4.00126505813936)"
            ]
          },
          "metadata": {},
          "execution_count": 20
        }
      ]
    },
    {
      "cell_type": "code",
      "source": [
        "from math import inf\n",
        "norm(v3,inf)"
      ],
      "metadata": {
        "colab": {
          "base_uri": "https://localhost:8080/"
        },
        "id": "NT8Dgtfn9IYt",
        "outputId": "0065f9e2-4903-49f9-f80f-d0b65e30379a"
      },
      "execution_count": 21,
      "outputs": [
        {
          "output_type": "execute_result",
          "data": {
            "text/plain": [
              "np.float64(4.0)"
            ]
          },
          "metadata": {},
          "execution_count": 21
        }
      ]
    },
    {
      "cell_type": "code",
      "source": [
        "print(v2)\n",
        "norm(v2,inf)"
      ],
      "metadata": {
        "colab": {
          "base_uri": "https://localhost:8080/"
        },
        "id": "vn0d8wD29dRy",
        "outputId": "3237970c-2492-4c53-c5e1-9f4fad097270"
      },
      "execution_count": 22,
      "outputs": [
        {
          "output_type": "stream",
          "name": "stdout",
          "text": [
            "[3 4 6 7 9]\n"
          ]
        },
        {
          "output_type": "execute_result",
          "data": {
            "text/plain": [
              "np.float64(9.0)"
            ]
          },
          "metadata": {},
          "execution_count": 22
        }
      ]
    },
    {
      "cell_type": "markdown",
      "source": [
        "###Nth Norm\n",
        "Formula:<br>\n",
        "$L^n$ = $||v3||_n$ = $\\sqrt[n]{(|a|_1^n + |a|_2^n + |a|_3^n)}$"
      ],
      "metadata": {
        "id": "Y1LJ9JnKBpo_"
      }
    }
  ]
}